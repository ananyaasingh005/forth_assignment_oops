{
 "cells": [
  {
   "cell_type": "code",
   "execution_count": null,
   "id": "2961ef74-b261-4383-9956-c948859b824e",
   "metadata": {},
   "outputs": [],
   "source": [
    "#Ques1:  What are the five key concepts of Object-Oriented Programming (OOP)?"
   ]
  },
  {
   "cell_type": "code",
   "execution_count": 20,
   "id": "e8f7b623-89f9-4396-a972-0d337bc151d2",
   "metadata": {},
   "outputs": [],
   "source": [
    "#Class and Objects6"
   ]
  },
  {
   "cell_type": "code",
   "execution_count": 11,
   "id": "39258052-ea07-44ee-a8e9-bcdbd4a50e0f",
   "metadata": {},
   "outputs": [],
   "source": [
    "class Car:\n",
    "    def __init__(self, make, model, year):\n",
    "        self.make = make\n",
    "        self.model = model\n",
    "        self.year = year\n",
    "    \n",
    "    def start_engine(self):\n",
    "        print(f\"{self.make} {self.model} engine started.\")\n",
    "\n",
    "car1 = Car(\"Toyota\", \"Camry\", 2021)\n",
    "car2 = Car(\"Honda\", \"Accord\", 2020)\n",
    "car3 = Car(\"Audi\", \"Q7\", 2020)"
   ]
  },
  {
   "cell_type": "code",
   "execution_count": 12,
   "id": "14eabdb3-1353-4484-b8a5-62658bb632cc",
   "metadata": {},
   "outputs": [
    {
     "name": "stdout",
     "output_type": "stream",
     "text": [
      "Toyota Camry engine started.\n"
     ]
    }
   ],
   "source": [
    "car1.start_engine()"
   ]
  },
  {
   "cell_type": "code",
   "execution_count": 13,
   "id": "e2088e05-3503-4bd0-90f9-c091d84fb7a9",
   "metadata": {},
   "outputs": [
    {
     "name": "stdout",
     "output_type": "stream",
     "text": [
      "Honda Accord engine started.\n"
     ]
    }
   ],
   "source": [
    "car2.start_engine() "
   ]
  },
  {
   "cell_type": "code",
   "execution_count": 16,
   "id": "2c77b469-0b9b-408a-8c4b-6ad4e6fe7a49",
   "metadata": {},
   "outputs": [
    {
     "name": "stdout",
     "output_type": "stream",
     "text": [
      "Audi Q7 engine started.\n"
     ]
    }
   ],
   "source": [
    "car3.start_engine()"
   ]
  },
  {
   "cell_type": "code",
   "execution_count": 19,
   "id": "47996714-03c7-4c8f-8f0f-56ef37993fcd",
   "metadata": {},
   "outputs": [],
   "source": [
    "#Encapsulation"
   ]
  },
  {
   "cell_type": "code",
   "execution_count": 17,
   "id": "8b65bd15-a0e4-4d32-b238-91d851025b69",
   "metadata": {},
   "outputs": [
    {
     "name": "stdout",
     "output_type": "stream",
     "text": [
      "1300\n"
     ]
    }
   ],
   "source": [
    "class BankAccount:\n",
    "    def __init__(self, balance):\n",
    "        self.__balance = balance\n",
    "\n",
    "    def deposit(self, amount):\n",
    "        self.__balance += amount\n",
    "    \n",
    "    def withdraw(self, amount):\n",
    "        if amount <= self.__balance:\n",
    "            self.__balance -= amount\n",
    "        else:\n",
    "            print(\"Insufficient balance.\")\n",
    "    \n",
    "    def get_balance(self):\n",
    "        return self.__balance\n",
    "\n",
    "account = BankAccount(1000)\n",
    "account.deposit(500)\n",
    "account.withdraw(200)\n",
    "print(account.get_balance())"
   ]
  },
  {
   "cell_type": "code",
   "execution_count": 18,
   "id": "92105136-c59b-4b2c-a64c-0b19b0f86498",
   "metadata": {},
   "outputs": [],
   "source": [
    "#Inheritance"
   ]
  },
  {
   "cell_type": "code",
   "execution_count": 22,
   "id": "f86497ac-6664-4700-a79f-540840d45959",
   "metadata": {},
   "outputs": [
    {
     "name": "stdout",
     "output_type": "stream",
     "text": [
      "Luck Barks\n",
      "Kitten says Meow Meow\n"
     ]
    }
   ],
   "source": [
    "class Animal:\n",
    "    def __init__(self, name):\n",
    "        self.name = name\n",
    "    \n",
    "    def say(self):\n",
    "        print(\"Animal sound\")\n",
    "\n",
    "class Dog(Animal):\n",
    "    def say(self):\n",
    "        print(f\"{self.name} Barks\")\n",
    "\n",
    "class Cat(Animal):\n",
    "    def say(self):\n",
    "        print(f\"{self.name} says Meow Meow\")\n",
    "\n",
    "dog = Dog(\"Luck\")\n",
    "cat = Cat(\"Kitten\")\n",
    "\n",
    "dog.say() \n",
    "cat.say() "
   ]
  },
  {
   "cell_type": "code",
   "execution_count": 23,
   "id": "cf274255-c329-44cb-8bbe-5c97709448c3",
   "metadata": {},
   "outputs": [],
   "source": [
    "# Polymorphism"
   ]
  },
  {
   "cell_type": "code",
   "execution_count": 25,
   "id": "2dd40eee-4b3e-4c90-8ebd-f796b602c177",
   "metadata": {},
   "outputs": [
    {
     "name": "stdout",
     "output_type": "stream",
     "text": [
      "Cat says Meow Meow\n",
      "Dog Barks\n"
     ]
    }
   ],
   "source": [
    "class Animal:\n",
    "    def speak(self):\n",
    "        print(\"Animal sound\")\n",
    "\n",
    "class Dog(Animal):\n",
    "    def speak(self):\n",
    "        print(\"Dog Barks\")\n",
    "\n",
    "class Cat(Animal):\n",
    "    def speak(self):\n",
    "        print(\"Cat says Meow Meow\")\n",
    "\n",
    "def anaimal_says(animal):\n",
    "    animal.speak()\n",
    "\n",
    "cat = Cat()\n",
    "dog = Dog()\n",
    "\n",
    "anaimal_says(cat)\n",
    "anaimal_says(dog) \n"
   ]
  },
  {
   "cell_type": "code",
   "execution_count": 26,
   "id": "bd56ec2d-e807-4b14-a113-26cbaf815804",
   "metadata": {},
   "outputs": [],
   "source": [
    "# Abstraction"
   ]
  },
  {
   "cell_type": "code",
   "execution_count": 27,
   "id": "94b19f80-cb49-49eb-9507-257ed3579bf4",
   "metadata": {},
   "outputs": [
    {
     "name": "stdout",
     "output_type": "stream",
     "text": [
      "78.5\n",
      "24\n"
     ]
    }
   ],
   "source": [
    "from abc import ABC, abstractmethod\n",
    "\n",
    "class Shape(ABC):\n",
    "    @abstractmethod\n",
    "    def area(self):\n",
    "        pass\n",
    "    \n",
    "class Circle(Shape):\n",
    "    def __init__(self, radius):\n",
    "        self.radius = radius\n",
    "    \n",
    "    def area(self):\n",
    "        return 3.14 * self.radius ** 2\n",
    "\n",
    "class Rectangle(Shape):\n",
    "    def __init__(self, width, height):\n",
    "        self.width = width\n",
    "        self.height = height\n",
    "    \n",
    "    def area(self):\n",
    "        return self.width * self.height\n",
    "\n",
    "circle = Circle(5)\n",
    "rectangle = Rectangle(4, 6)\n",
    "\n",
    "print(circle.area())     \n",
    "print(rectangle.area())\n"
   ]
  },
  {
   "cell_type": "code",
   "execution_count": 28,
   "id": "b282578e-59b5-4909-9d2c-c04b4a1fa26b",
   "metadata": {},
   "outputs": [],
   "source": [
    "#Ques 2 : Write a Python class for a `Car` with attributes for `make`, `model`, and `year`. Include a method to display\n",
    "#the car's information."
   ]
  },
  {
   "cell_type": "code",
   "execution_count": 29,
   "id": "1d90a9ad-3901-4e58-a410-639458a3d27c",
   "metadata": {},
   "outputs": [],
   "source": [
    "class Car:\n",
    "    def __init__(self, make, model, year):\n",
    "        self.make = make\n",
    "        self.model = model\n",
    "        self.year = year\n",
    "    \n",
    "    def start_engine(self):\n",
    "        print(f\"{self.make} {self.model} engine started.\")\n",
    "\n",
    "car1 = Car(\"Toyota\", \"Camry\", 2021)\n",
    "car2 = Car(\"Honda\", \"Accord\", 2020)\n",
    "car3 = Car(\"Audi\", \"Q7\", 2020)"
   ]
  },
  {
   "cell_type": "code",
   "execution_count": 30,
   "id": "108fb823-e38b-4aad-918e-37969e0dc03f",
   "metadata": {},
   "outputs": [
    {
     "name": "stdout",
     "output_type": "stream",
     "text": [
      "Toyota Camry engine started.\n"
     ]
    }
   ],
   "source": [
    "car1.start_engine()"
   ]
  },
  {
   "cell_type": "code",
   "execution_count": 31,
   "id": "2411bf3f-f8f7-4e62-9709-548ac8d7e56e",
   "metadata": {},
   "outputs": [
    {
     "name": "stdout",
     "output_type": "stream",
     "text": [
      "Honda Accord engine started.\n"
     ]
    }
   ],
   "source": [
    "car2.start_engine()"
   ]
  },
  {
   "cell_type": "code",
   "execution_count": 32,
   "id": "fea22323-73c9-4777-8d74-85d3fa3a8913",
   "metadata": {},
   "outputs": [
    {
     "name": "stdout",
     "output_type": "stream",
     "text": [
      "Audi Q7 engine started.\n"
     ]
    }
   ],
   "source": [
    "car3.start_engine()"
   ]
  },
  {
   "cell_type": "code",
   "execution_count": 33,
   "id": "9fb6f2f3-168e-46ca-966c-ca0a2e7a8425",
   "metadata": {},
   "outputs": [],
   "source": [
    "#Ques 3. Explain the difference between instance methods and class methods. Provide an example of each."
   ]
  },
  {
   "cell_type": "code",
   "execution_count": 34,
   "id": "15b1430f-b3b0-4fdf-80a1-ccdd4e287a4e",
   "metadata": {},
   "outputs": [],
   "source": [
    "#Instance Method"
   ]
  },
  {
   "cell_type": "code",
   "execution_count": 37,
   "id": "f2b523e6-0f26-4df7-8a27-fdf64b78852b",
   "metadata": {},
   "outputs": [
    {
     "name": "stdout",
     "output_type": "stream",
     "text": [
      "Luck Barks\n",
      "Kitten says Meow Meow\n"
     ]
    }
   ],
   "source": [
    "class Animal:\n",
    "    def __init__(self, name):\n",
    "        self.name = name\n",
    "    \n",
    "    def say(self):\n",
    "        print(\"Animal sound\")\n",
    "\n",
    "class Dog(Animal):\n",
    "    def say(self):\n",
    "        print(f\"{self.name} Barks\")\n",
    "\n",
    "class Cat(Animal):\n",
    "    def say(self):\n",
    "        print(f\"{self.name} says Meow Meow\")\n",
    "\n",
    "dog = Dog(\"Luck\")\n",
    "cat = Cat(\"Kitten\")\n",
    "\n",
    "dog.say() \n",
    "cat.say() "
   ]
  },
  {
   "cell_type": "code",
   "execution_count": null,
   "id": "1c66ef22-8c2f-4d08-9051-e320d55f918f",
   "metadata": {},
   "outputs": [],
   "source": [
    "# @classmethod"
   ]
  },
  {
   "cell_type": "code",
   "execution_count": 36,
   "id": "d1ded527-b3ae-4cdf-8a5b-55d3a76c1617",
   "metadata": {},
   "outputs": [
    {
     "name": "stdout",
     "output_type": "stream",
     "text": [
      "Lucky Barks\n"
     ]
    }
   ],
   "source": [
    "class Animal:\n",
    "    def __init__(self, name):\n",
    "        self.name = name\n",
    "    \n",
    "    def say(self):\n",
    "        print(\"Animal sound\")\n",
    "\n",
    "    @classmethod\n",
    "    def create_dog(cls, name):\n",
    "        return Dog(name)\n",
    "\n",
    "class Dog(Animal):\n",
    "    def say(self):\n",
    "        print(f\"{self.name} Barks\")\n",
    "\n",
    "dog = Animal.create_dog(\"Lucky\")\n",
    "\n",
    "dog.say()\n"
   ]
  },
  {
   "cell_type": "code",
   "execution_count": null,
   "id": "77adb84d-3c85-4d93-9475-0d08bd381569",
   "metadata": {},
   "outputs": [],
   "source": [
    "#Ques 4: How does Python implement method overloading? Give an example."
   ]
  },
  {
   "cell_type": "code",
   "execution_count": 40,
   "id": "a1e1c0da-a0d1-40cb-8dfb-50b407332808",
   "metadata": {},
   "outputs": [
    {
     "name": "stdout",
     "output_type": "stream",
     "text": [
      "60\n",
      "30\n"
     ]
    }
   ],
   "source": [
    "class Example:\n",
    "   def add1(self, a, b):\n",
    "      x = a+b\n",
    "      return x\n",
    "   def add2(self, a, b, c):\n",
    "      x = a+b+c\n",
    "      return x\n",
    "\n",
    "obj = Example()\n",
    "\n",
    "print (obj.add2(10,20,30))\n",
    "print (obj.add1(10,20))"
   ]
  },
  {
   "cell_type": "code",
   "execution_count": 41,
   "id": "da1fb750-5503-4c2f-b81e-18f10f5041d1",
   "metadata": {},
   "outputs": [],
   "source": [
    "# Ques 6: Describe the five types of inheritance in Python. Provide a simple example of multiple inheritance."
   ]
  },
  {
   "cell_type": "code",
   "execution_count": 42,
   "id": "571f08fb-8618-4c6b-a90c-3be038f41746",
   "metadata": {},
   "outputs": [],
   "source": [
    "# Single Inheritance "
   ]
  },
  {
   "cell_type": "code",
   "execution_count": 44,
   "id": "fad5fac7-7c69-41f6-8192-c323e21cb75f",
   "metadata": {},
   "outputs": [
    {
     "name": "stdout",
     "output_type": "stream",
     "text": [
      "Animal says story\n",
      "Bark\n"
     ]
    }
   ],
   "source": [
    "class Animal:\n",
    "    def speak(self):\n",
    "        return \"Animal says story\"\n",
    "\n",
    "class Dog(Animal):\n",
    "    def bark(self):\n",
    "        return \"Bark\"\n",
    "\n",
    "dog = Dog()\n",
    "print(dog.speak())\n",
    "print(dog.bark()) \n"
   ]
  },
  {
   "cell_type": "code",
   "execution_count": 45,
   "id": "09f36f6d-878d-4d53-abbd-a6685dc8b1ef",
   "metadata": {},
   "outputs": [],
   "source": [
    "# Multiple Inheritance"
   ]
  },
  {
   "cell_type": "code",
   "execution_count": 47,
   "id": "78258ab0-151d-4223-9797-f2b86862d079",
   "metadata": {},
   "outputs": [
    {
     "name": "stdout",
     "output_type": "stream",
     "text": [
      "Can hear animal sounds\n",
      "Cat says Meow Meow\n",
      "Can hear animal sounds\n",
      "Dog says Bark\n"
     ]
    }
   ],
   "source": [
    "class Animal: \n",
    "    def sound(self):\n",
    "        return \"Can hear animal sounds\"\n",
    "\n",
    "class Cat(Animal): \n",
    "    def cat_sound(self):\n",
    "        return \"Cat says Meow Meow\"\n",
    "\n",
    "class Dog(Animal):  \n",
    "    def dog_sound(self):\n",
    "        return \"Dog says Bark\"\n",
    "\n",
    "cat = Cat()\n",
    "dog = Dog()\n",
    "\n",
    "# Print outputs\n",
    "print(cat.sound())      \n",
    "print(cat.cat_sound()) \n",
    "print(dog.sound())      \n",
    "print(dog.dog_sound())  \n",
    " \n"
   ]
  },
  {
   "cell_type": "code",
   "execution_count": 52,
   "id": "0c42d9a3-53ba-46be-bc9d-599edc967873",
   "metadata": {},
   "outputs": [],
   "source": [
    "# Multilevel Inheritance"
   ]
  },
  {
   "cell_type": "code",
   "execution_count": 53,
   "id": "7140b015-de18-4a44-9850-3ea07a523acc",
   "metadata": {},
   "outputs": [
    {
     "name": "stdout",
     "output_type": "stream",
     "text": [
      "Animal speaks\n",
      "Bark!\n",
      "Puppy weeps\n"
     ]
    }
   ],
   "source": [
    "class Animal:\n",
    "    def speak(self):\n",
    "        return \"Animal speaks\"\n",
    "\n",
    "class Dog(Animal):  \n",
    "    def bark(self):\n",
    "        return \"Bark!\"\n",
    "\n",
    "class Puppy(Dog):\n",
    "    def weep(self):\n",
    "        return \"Puppy weeps\"\n",
    "\n",
    "puppy = Puppy()\n",
    "print(puppy.speak())  \n",
    "print(puppy.bark())   \n",
    "print(puppy.weep())   \n"
   ]
  },
  {
   "cell_type": "code",
   "execution_count": 48,
   "id": "3fe0fa5f-5c7f-4764-902e-dbe5b6abfe9b",
   "metadata": {},
   "outputs": [],
   "source": [
    "#Hierarchical Inheritance"
   ]
  },
  {
   "cell_type": "code",
   "execution_count": 49,
   "id": "6c177e1e-6219-45a8-8e99-a0a37332e86d",
   "metadata": {},
   "outputs": [
    {
     "name": "stdout",
     "output_type": "stream",
     "text": [
      "Animal speaks\n",
      "Animal speaks\n",
      "Bark!\n",
      "Meow!\n"
     ]
    }
   ],
   "source": [
    "class Animal:\n",
    "    def speak(self):\n",
    "        return \"Animal speaks\"\n",
    "\n",
    "class Dog(Animal): \n",
    "    def bark(self):\n",
    "        return \"Bark!\"\n",
    "\n",
    "class Cat(Animal):\n",
    "    def meow(self):\n",
    "        return \"Meow!\"\n",
    "\n",
    "dog = Dog()\n",
    "cat = Cat()\n",
    "print(dog.speak())  \n",
    "print(cat.speak())   \n",
    "print(dog.bark())   \n",
    "print(cat.meow())  \n"
   ]
  },
  {
   "cell_type": "code",
   "execution_count": 50,
   "id": "3311d905-2905-46b9-8dc8-29de6fdd4a46",
   "metadata": {},
   "outputs": [],
   "source": [
    "# Hybrid Inheritance"
   ]
  },
  {
   "cell_type": "code",
   "execution_count": 51,
   "id": "5359a304-c7a2-441e-aacd-91faea91c326",
   "metadata": {},
   "outputs": [
    {
     "name": "stdout",
     "output_type": "stream",
     "text": [
      "Animal speaks\n",
      "Flying\n",
      "Chirp!\n",
      "Tweet!\n"
     ]
    }
   ],
   "source": [
    "class Animal:\n",
    "    def speak(self):\n",
    "        return \"Animal speaks\"\n",
    "\n",
    "class Flyer:\n",
    "    def fly(self):\n",
    "        return \"Flying\"\n",
    "\n",
    "class Bird(Animal, Flyer): \n",
    "    def chirp(self):\n",
    "        return \"Chirp!\"\n",
    "\n",
    "class Sparrow(Bird): \n",
    "    def tweet(self):\n",
    "        return \"Tweet!\"\n",
    "\n",
    "sparrow = Sparrow()\n",
    "print(sparrow.speak()) \n",
    "print(sparrow.fly())   \n",
    "print(sparrow.chirp()) \n",
    "print(sparrow.tweet())  "
   ]
  },
  {
   "cell_type": "code",
   "execution_count": null,
   "id": "31102294-f01c-468e-a2fa-7d92944fcc1b",
   "metadata": {},
   "outputs": [],
   "source": [
    "#Ques 7: What is the Method Resolution Order (MRO) in Python? How can you retrieve it programmatically?"
   ]
  },
  {
   "cell_type": "code",
   "execution_count": 54,
   "id": "18bf5da7-b762-4407-a03e-a9b2ca1eb222",
   "metadata": {},
   "outputs": [
    {
     "name": "stdout",
     "output_type": "stream",
     "text": [
      "Method from class B\n"
     ]
    }
   ],
   "source": [
    "class A:\n",
    "    def method(self):\n",
    "        return \"Method from class A\"\n",
    "\n",
    "class B(A):\n",
    "    def method(self):\n",
    "        return \"Method from class B\"\n",
    "\n",
    "class C(A):\n",
    "    def method(self):\n",
    "        return \"Method from class C\"\n",
    "\n",
    "class D(B, C):\n",
    "    pass\n",
    "    \n",
    "d = D()\n",
    "print(d.method())  "
   ]
  },
  {
   "cell_type": "code",
   "execution_count": 55,
   "id": "8372e265-49f2-4c47-b420-2c02bd46333d",
   "metadata": {},
   "outputs": [
    {
     "name": "stdout",
     "output_type": "stream",
     "text": [
      "[<class '__main__.D'>, <class '__main__.B'>, <class '__main__.C'>, <class '__main__.A'>, <class 'object'>]\n"
     ]
    }
   ],
   "source": [
    "print(D.mro())"
   ]
  },
  {
   "cell_type": "code",
   "execution_count": 56,
   "id": "9aa9864f-60cc-4c59-ae4b-e9b57627faa4",
   "metadata": {},
   "outputs": [
    {
     "name": "stdout",
     "output_type": "stream",
     "text": [
      "(<class '__main__.D'>, <class '__main__.B'>, <class '__main__.C'>, <class '__main__.A'>, <class 'object'>)\n"
     ]
    }
   ],
   "source": [
    "print(D.__mro__)"
   ]
  },
  {
   "cell_type": "code",
   "execution_count": null,
   "id": "2b571051-348d-4459-99be-f6b80f71e270",
   "metadata": {},
   "outputs": [],
   "source": [
    "# Ques 8:Create an abstract base class `Shape` with an abstract method `area()`. Then create two subclasses\n",
    "#`Circle` and `Rectangle` that implement the `area()` method."
   ]
  },
  {
   "cell_type": "code",
   "execution_count": 61,
   "id": "fb413fc9-5ac8-457a-9ceb-cb97e4c5f511",
   "metadata": {},
   "outputs": [
    {
     "name": "stdout",
     "output_type": "stream",
     "text": [
      "Area of Circle: 78.53981633974483\n",
      "Area of Rectangle: 24\n"
     ]
    }
   ],
   "source": [
    "from abc import ABC, abstractmethod\n",
    "import math\n",
    "\n",
    "# Abstract Base Class\n",
    "class Shape(ABC):\n",
    "    @abstractmethod\n",
    "    def area(self):\n",
    "        pass\n",
    "\n",
    "class Circle(Shape):\n",
    "    def __init__(self, radius):\n",
    "        self.radius = radius\n",
    "\n",
    "    def area(self):\n",
    "        return math.pi * (self.radius ** 2)\n",
    "\n",
    "class Rectangle(Shape):\n",
    "    def __init__(self, width, height):\n",
    "        self.width = width\n",
    "        self.height = height\n",
    "\n",
    "    def area(self):\n",
    "        return self.width * self.height\n",
    "\n",
    "circle = Circle(5)\n",
    "rectangle = Rectangle(4, 6)\n",
    "\n",
    "print(f\"Area of Circle: {circle.area():}\")        \n",
    "print(f\"Area of Rectangle: {rectangle.area()}\")     \n"
   ]
  },
  {
   "cell_type": "code",
   "execution_count": 62,
   "id": "f4e96be5-4e0d-4030-896e-fa9f673e83f6",
   "metadata": {},
   "outputs": [],
   "source": [
    "# Ques 9: Demonstrate polymorphism by creating a function that can work with different shape objects to calculate\n",
    "#and print their areas."
   ]
  },
  {
   "cell_type": "code",
   "execution_count": 60,
   "id": "ed4e0b64-5396-4355-8780-e84c6d44d992",
   "metadata": {},
   "outputs": [
    {
     "name": "stdout",
     "output_type": "stream",
     "text": [
      "Area: 78.53981633974483\n",
      "Area: 24\n"
     ]
    }
   ],
   "source": [
    "from abc import ABC, abstractmethod\n",
    "import math\n",
    "\n",
    "class Shape(ABC):\n",
    "    @abstractmethod\n",
    "    def area(self):\n",
    "        pass \n",
    "\n",
    "class Circle(Shape):\n",
    "    def __init__(self, radius):\n",
    "        self.radius = radius\n",
    "\n",
    "    def area(self):\n",
    "        return math.pi * (self.radius ** 2)\n",
    "\n",
    "class Rectangle(Shape):\n",
    "    def __init__(self, width, height):\n",
    "        self.width = width\n",
    "        self.height = height\n",
    "\n",
    "    def area(self):\n",
    "        return self.width * self.height\n",
    "\n",
    "def print_area(shape: Shape):\n",
    "    print(f\"Area: {shape.area():}\")\n",
    "\n",
    "circle = Circle(5)\n",
    "rectangle = Rectangle(4, 6)\n",
    "\n",
    "print_area(circle)      \n",
    "print_area(rectangle)   "
   ]
  },
  {
   "cell_type": "code",
   "execution_count": 63,
   "id": "000a4bff-7b0e-44fc-bc1a-8659ec3e515e",
   "metadata": {},
   "outputs": [],
   "source": [
    "# Ques 10 : Implement encapsulation in a `BankAccount` class with private attributes for `balance` and\n",
    "#`account_number`. Include methods for deposit, withdrawal, and balance inquiry."
   ]
  },
  {
   "cell_type": "code",
   "execution_count": 64,
   "id": "5836054b-6388-4736-b013-4371664bdd4e",
   "metadata": {},
   "outputs": [
    {
     "name": "stdout",
     "output_type": "stream",
     "text": [
      "1300\n"
     ]
    }
   ],
   "source": [
    "class BankAccount:\n",
    "    def __init__(self, balance):\n",
    "        self.__balance = balance\n",
    "\n",
    "    def deposit(self, amount):\n",
    "        self.__balance += amount\n",
    "    \n",
    "    def withdraw(self, amount):\n",
    "        if amount <= self.__balance:\n",
    "            self.__balance -= amount\n",
    "        else:\n",
    "            print(\"Insufficient balance.\")\n",
    "    \n",
    "    def get_balance(self):\n",
    "        return self.__balance\n",
    "\n",
    "account = BankAccount(1000)\n",
    "account.deposit(500)\n",
    "account.withdraw(200)\n",
    "print(account.get_balance())"
   ]
  },
  {
   "cell_type": "code",
   "execution_count": null,
   "id": "51ae615e-6df4-4de0-985a-e4af8e044d0b",
   "metadata": {},
   "outputs": [],
   "source": [
    "# Ques 11: Write a class that overrides the `__str__` and `__add__` magic methods. What will these methods allow\n",
    "#you to do?"
   ]
  },
  {
   "cell_type": "code",
   "execution_count": 65,
   "id": "66c3e637-0017-4453-980e-2b0cee0f6c69",
   "metadata": {},
   "outputs": [
    {
     "name": "stdout",
     "output_type": "stream",
     "text": [
      "Point(2, 3)\n",
      "Point(7, 10)\n"
     ]
    }
   ],
   "source": [
    "class Point:\n",
    "    def __init__(self, x, y):\n",
    "        self.x = x\n",
    "        self.y = y\n",
    "\n",
    "    def __str__(self):\n",
    "        return f\"Point({self.x}, {self.y})\" \n",
    "\n",
    "    def __add__(self, other):\n",
    "        if isinstance(other, Point):\n",
    "            return Point(self.x + other.x, self.y + other.y)  \n",
    "        return NotImplemented \n",
    "\n",
    "point1 = Point(2, 3)\n",
    "point2 = Point(5, 7)\n",
    "\n",
    "print(point1) \n",
    "\n",
    "point3 = point1 + point2\n",
    "print(point3) "
   ]
  },
  {
   "cell_type": "code",
   "execution_count": 68,
   "id": "b55d1f39-119a-4159-b40c-6c946d84ca6d",
   "metadata": {},
   "outputs": [],
   "source": [
    "# Ques 15: Implement a static method in a class that checks if a given year is a leap year."
   ]
  },
  {
   "cell_type": "code",
   "execution_count": 69,
   "id": "6b731204-dc64-4fa2-93be-fdc92d8cc094",
   "metadata": {},
   "outputs": [
    {
     "name": "stdout",
     "output_type": "stream",
     "text": [
      "True\n",
      "False\n"
     ]
    }
   ],
   "source": [
    "class LeapYear:\n",
    "    def is_leap_year(year):\n",
    "        if (year % 4 == 0 and year % 100 != 0) or (year % 400 == 0):\n",
    "            return True\n",
    "        return False\n",
    "\n",
    "# Example usage:\n",
    "print(LeapYear.is_leap_year(2024))  \n",
    "print(LeapYear.is_leap_year(2023))  \n"
   ]
  }
 ],
 "metadata": {
  "kernelspec": {
   "display_name": "Python 3 (ipykernel)",
   "language": "python",
   "name": "python3"
  },
  "language_info": {
   "codemirror_mode": {
    "name": "ipython",
    "version": 3
   },
   "file_extension": ".py",
   "mimetype": "text/x-python",
   "name": "python",
   "nbconvert_exporter": "python",
   "pygments_lexer": "ipython3",
   "version": "3.12.6"
  }
 },
 "nbformat": 4,
 "nbformat_minor": 5
}
